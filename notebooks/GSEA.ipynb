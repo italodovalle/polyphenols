{
 "cells": [
  {
   "cell_type": "code",
   "execution_count": 1,
   "metadata": {},
   "outputs": [
    {
     "name": "stderr",
     "output_type": "stream",
     "text": [
      "/home/italodovalle/.local/lib/python3.5/site-packages/statsmodels/compat/pandas.py:56: FutureWarning: The pandas.core.datetools module is deprecated and will be removed in a future version. Please use the pandas.tseries module instead.\n",
      "  from pandas.core import datetools\n"
     ]
    }
   ],
   "source": [
    "import pandas as pd\n",
    "import numpy as np\n",
    "\n",
    "\n",
    "import matplotlib.pylab as plt\n",
    "import seaborn as sns\n",
    "sns.set_style('whitegrid')\n",
    "\n",
    "from collections import defaultdict\n",
    "from progressbar import ProgressBar\n",
    "import re\n",
    "from multiprocessing import Pool\n",
    "import time\n",
    "\n",
    "import scipy\n",
    "import networkx as nx\n",
    "import re\n",
    "\n",
    "import os\n",
    "import random\n",
    "import statsmodels.api as sm\n",
    "from collections import Counter\n",
    "\n",
    "from statsmodels.stats.multitest import multipletests\n",
    "\n",
    "%config InlineBackend.figure_format = 'retina'\n",
    "%matplotlib inline"
   ]
  },
  {
   "cell_type": "code",
   "execution_count": 6,
   "metadata": {},
   "outputs": [],
   "source": [
    "infolder = os.getcwd()[:-15] + 'data/'\n",
    "outfolder = os.getcwd()[:-15] + 'output/'\n",
    "dbs = os.getcwd()[:-15] + 'data/databases/'"
   ]
  },
  {
   "cell_type": "code",
   "execution_count": 7,
   "metadata": {},
   "outputs": [
    {
     "name": "stdout",
     "output_type": "stream",
     "text": [
      "GenRev not found, steiner wont work\n",
      "Import error: Negex. Using keyword matching instead\n",
      "Import error: Funcassociate. Make sure that funcassociate is in toolbox!\n"
     ]
    }
   ],
   "source": [
    "os.chdir(os.getcwd()[:-15] + 'python/')\n",
    "import guney_code.wrappers as wrappers\n",
    "\n",
    "from guney_code.wrappers import network_utilities, get_random_nodes, calculate_closest_distance, calculate_separation_proximity, calculate_proximity\n",
    "\n",
    "import toolbox.network_utils as network_utils"
   ]
  },
  {
   "cell_type": "code",
   "execution_count": 8,
   "metadata": {},
   "outputs": [
    {
     "name": "stdout",
     "output_type": "stream",
     "text": [
      "17651 nodes\n",
      "351393 edges\n"
     ]
    }
   ],
   "source": [
    "infile = infolder + 'Human_Interactome_201706.txt'\n",
    "header=True\n",
    "sep = '\\t'\n",
    "columns = ['#Protein A', 'Protein B']\n",
    "lcc = False\n",
    "G = network_utils.parse_interactome(infile, sep, header, columns, lcc=True)\n",
    "\n",
    "print (len(G.nodes()), 'nodes')\n",
    "print (len(G.edges()), 'edges')"
   ]
  },
  {
   "cell_type": "code",
   "execution_count": 9,
   "metadata": {},
   "outputs": [],
   "source": [
    "polyphenol = pd.read_csv(infolder + 'PhenolExplorer_CTD-Stitch.csv',index_col = 0)\n",
    "polyphenol = polyphenol[polyphenol.experimental > 0]\n",
    "chemical2genes = defaultdict(list)\n",
    "for i in polyphenol.index:\n",
    "    name = polyphenol.chemical.loc[i]\n",
    "    chemical2genes[name].append(polyphenol.entrezid.loc[i])\n",
    "    \n",
    "for i in chemical2genes.keys():\n",
    "    chemical2genes[i] = list(set(chemical2genes[i]))"
   ]
  },
  {
   "cell_type": "code",
   "execution_count": 19,
   "metadata": {},
   "outputs": [],
   "source": [
    "disease2genes = {}\n",
    "for i in open(infolder + 'Guney2016_GenesDisease.tsv').readlines():\n",
    "    v = i.rstrip().split('\\t')\n",
    "    disease = v[1]\n",
    "    genes = v[2:]\n",
    "    if len(genes) > 19:\n",
    "        disease2genes[disease] = [int(i) for i in genes]"
   ]
  },
  {
   "cell_type": "markdown",
   "metadata": {},
   "source": [
    "## Import GCT\n",
    "\n",
    "* Perturbation signatures (in z-scores) of MCF7 cells treated with polyphenols were downloaded from the CLUE.io website (https://clue.io/)"
   ]
  },
  {
   "cell_type": "code",
   "execution_count": 14,
   "metadata": {},
   "outputs": [],
   "source": [
    "def parse_gct(infile):\n",
    "    \n",
    "    dt = pd.read_table(infile, sep = '\\t', skiprows=2)\n",
    "    cols = list(dt.columns[9:])\n",
    "    desc = dt.loc[:7, cols]\n",
    "    cols.append('id')\n",
    "    exp_matrix = dt[cols]\n",
    "    exp_matrix = dt.iloc[8:]\n",
    "    attributes = defaultdict(dict)\n",
    "    desc = dt.loc[:7, cols]\n",
    "    for i in desc.columns[:-1]:\n",
    "        for j in desc.index:\n",
    "            attributes[i][desc['id'].loc[j]] = desc[i].loc[j]\n",
    "    attributes = pd.DataFrame.from_dict(attributes, orient='index').reset_index()\n",
    "    attributes['distil_cc_q75'] = attributes['distil_cc_q75'].astype(float)\n",
    "    return(exp_matrix, attributes)\n",
    "\n",
    "\n",
    "def get_sp(gene):\n",
    "    if gene in G.nodes():\n",
    "        s = network_utils.calculate_closest_distance(G,[gene], genes)\n",
    "    else:\n",
    "        s = float('nan')\n",
    "    t = (gene,s)\n",
    "    return(t)"
   ]
  },
  {
   "cell_type": "code",
   "execution_count": 18,
   "metadata": {},
   "outputs": [],
   "source": [
    "def get_gsea(geneset, nongeneset, df,dataframe=False):\n",
    "    dic = {}\n",
    "    N_H = len(geneset)\n",
    "    N = df.shape[0]\n",
    "    n_r = np.sum(df['value'][df.gene.isin(geneset)].abs())\n",
    "    for rank in range(N):\n",
    "        dx = df.iloc[:rank]\n",
    "        s = list(set(geneset) & (set(dx['gene'])))\n",
    "        p_hit = np.sum(dx[dx.gene.isin(s)]['value'].abs()/n_r)\n",
    "        p_miss = 1.0/(N - N_H) * dx[~dx.gene.isin(geneset)].shape[0]\n",
    "        dic[rank] = p_hit - p_miss\n",
    "    dic = pd.DataFrame.from_dict(dic, orient='index')\n",
    "    if dataframe:\n",
    "        return(dic)\n",
    "    else:\n",
    "        return(dic[0].abs().max())\n",
    "    \n",
    "    \n",
    "def get_gsea_performance(geneset, nongeneset, df):\n",
    "    df = df.reset_index()\n",
    "    ranks_mapped = list(df[df.gene.isin(geneset)].index)\n",
    "    ranks = []\n",
    "    for i in ranks_mapped:\n",
    "        ranks.append(i - 1)\n",
    "        ranks.append(i)\n",
    "        ranks.append(i + 1)\n",
    "    dic = {}\n",
    "    N_H = len(geneset)\n",
    "    N = df.shape[0]\n",
    "    n_r = np.sum(df['value'][df.gene.isin(geneset)].abs())\n",
    "    for rank in ranks:\n",
    "        dx = df.iloc[:rank]\n",
    "        s = list(set(geneset) & (set(dx['gene'])))\n",
    "        p_hit = np.sum(dx[dx.gene.isin(s)]['value'].abs()/n_r)\n",
    "        p_miss = 1.0/(N - N_H) * dx[~dx.gene.isin(geneset)].shape[0]\n",
    "        dic[rank] = p_hit - p_miss\n",
    "    dic = pd.DataFrame.from_dict(dic, orient='index')\n",
    "    return(dic[0].abs().max())\n",
    "\n",
    "\n",
    "def get_null(input):\n",
    "    n, df = input\n",
    "    geneset = df['gene'].sample(n)\n",
    "    nongeneset = list(set(df['gene']) - set(geneset))\n",
    "    #es = get_gsea(geneset, nongeneset, df)\n",
    "    es = get_gsea_performance(geneset, nongeneset, df)\n",
    "    return(es)"
   ]
  },
  {
   "cell_type": "code",
   "execution_count": 17,
   "metadata": {},
   "outputs": [],
   "source": [
    "molecules = ['coumarin.gct',\n",
    " 'nobiletin.gct',\n",
    " 'prunetin.gct',\n",
    " 'coumestrol.gct',\n",
    " 'pterostilbene.gct',\n",
    " 'isoliquiritigenin.gct',\n",
    " 'caffeic_acid.gct',\n",
    " 'apigenin.gct',\n",
    " 'naringenin.gct',\n",
    " '(-)-epicatechin 3-o-gallate.gct',\n",
    " '(-)-epigallocatechin 3-o-gallate.gct',\n",
    " 'naringin.gct',\n",
    " 'piceatannol.gct',\n",
    " 'epicatechin.gct',\n",
    " 'daidzein.gct',\n",
    " 'umbelliferone.gct',\n",
    " 'rosmarinic acid.gtc']"
   ]
  },
  {
   "cell_type": "code",
   "execution_count": 24,
   "metadata": {},
   "outputs": [],
   "source": [
    "infiles = [i for i in os.listdir(infolder + 'databases/clue/') if i.endswith('.gct')]"
   ]
  },
  {
   "cell_type": "code",
   "execution_count": null,
   "metadata": {},
   "outputs": [],
   "source": [
    "ncpu = 1\n",
    "npermutations = 10\n",
    "for infile in infiles:\n",
    "    \n",
    "    cell_line = 'MCF7'\n",
    "    \n",
    "    ## parse gct file\n",
    "    dt, attributes = parse_gct(infolder + 'databases/clue/' + infile)\n",
    "    \n",
    "    ## select experimental instances to run gsea\n",
    "    selected = attributes[(attributes.cell_id == cell_line)]\n",
    "    timepoints = ['24 h', '6 h']\n",
    "    treats = list(set(attributes['pert_idose']))\n",
    "    samples = []\n",
    "    for tp in timepoints:\n",
    "        for treat in treats:\n",
    "            buf = selected[(selected['pert_itime'] == tp) & (selected['pert_idose'] == treat)]\n",
    "            if buf.shape[0] == 1:\n",
    "                samples.append(buf['index'].iloc[0])\n",
    "            if buf.shape[0] > 1:\n",
    "                sample = buf[buf['distil_cc_q75'] == buf['distil_cc_q75'].max()]['index'].iloc[0]\n",
    "                samples.append(sample)\n",
    "                \n",
    "    ## prepare tables\n",
    "    cols = ['id'] + samples\n",
    "    data = dt[cols]\n",
    "    data['id'] = data['id'].astype(int)\n",
    "    data = data[data['id'].isin(list(G.nodes()))]\n",
    "    for col in samples:\n",
    "        data[col] = data[col].astype(float)\n",
    "    \n",
    "    \n",
    "    ## run gsea for each experimental instance\n",
    "    for test in samples:\n",
    "        \n",
    "        dquery = data[[test, 'id']]\n",
    "        dquery = dquery.sort_values(by = test)\n",
    "        dquery.columns = ['value', 'gene']\n",
    "        \n",
    "        dfs = []\n",
    "        pbar = ProgressBar()\n",
    "        dic_null = {}\n",
    "        for disease in pbar(disease2genes.keys()):\n",
    "            res = defaultdict(dict)\n",
    "            c = 0\n",
    "            geneset = list(set(disease2genes[disease]) & set(G.nodes()))\n",
    "            ns = list(set(dquery['gene']) - set(geneset))\n",
    "            es = get_gsea_performance(geneset, ns, dquery)\n",
    "            if not len(geneset) in dic_null.keys():\n",
    "                p = Pool(ncpu)\n",
    "                randomsets = np.repeat(len(geneset),npermutations)\n",
    "                randomsets = [[i,dquery] for i in randomsets]\n",
    "                null = p.map(get_null, randomsets)\n",
    "                p.close()\n",
    "                dic_null[len(geneset)] = null\n",
    "            res[c]['disease'] = disease\n",
    "            res[c]['ES'] = es\n",
    "            res[c]['Z_ES'] = (es - np.mean(dic_null[len(geneset)]))/np.std(dic_null[len(geneset)])\n",
    "            res[c]['p_empirical'] = len([i for i in dic_null[len(geneset)] if i > es])/len(dic_null[len(geneset)])\n",
    "            res = pd.DataFrame.from_dict(res, orient='index')\n",
    "            #res.to_csv(outfolder + 'tables/tmp/%s.csv'%disease)\n",
    "            dfs.append(res)\n",
    "        res = pd.concat(dfs)\n",
    "    \n",
    "    break"
   ]
  },
  {
   "cell_type": "markdown",
   "metadata": {},
   "source": [
    "## Organize Output"
   ]
  },
  {
   "cell_type": "code",
   "execution_count": null,
   "metadata": {},
   "outputs": [],
   "source": [
    "molecule = 'genistein'\n",
    "cell_line = 'MCF7'\n",
    "indir = '/home/italodovalle/flavonoids/output/tables/tmp/'\n",
    "dfs = []\n",
    "for i in os.listdir(indir):\n",
    "    if 'gsea_%s_%s'%(molecule, cell_line.lower()) in i:\n",
    "        d = pd.read_csv(indir + i, index_col = 0)\n",
    "        if '_' in molecule:\n",
    "            v = i.split('_')\n",
    "            cell, concentration, time = v[-3],v[-2],v[-1]\n",
    "            chemical = molecule\n",
    "        else:\n",
    "            buf, chemical, cell,concentration, time =  i.split('_')\n",
    "        d['cell'] = cell\n",
    "        d['concentration'] = concentration\n",
    "        d['duration'] = time.split('.')[0]\n",
    "        d['pvalue_adj'] = multipletests(d['p_empirical'], alpha=0.05, method='fdr_bh')[1]\n",
    "        dfs.append(d)\n",
    "df = pd.concat(dfs)\n",
    "df.to_csv(outfolder + 'tables/gsea_cmap/%s_%s_cmap_gsea.csv'%(molecule,cell_line.lower()))"
   ]
  }
 ],
 "metadata": {
  "kernelspec": {
   "display_name": "Python 3",
   "language": "python",
   "name": "python3"
  },
  "language_info": {
   "codemirror_mode": {
    "name": "ipython",
    "version": 3
   },
   "file_extension": ".py",
   "mimetype": "text/x-python",
   "name": "python",
   "nbconvert_exporter": "python",
   "pygments_lexer": "ipython3",
   "version": "3.5.3"
  }
 },
 "nbformat": 4,
 "nbformat_minor": 2
}
