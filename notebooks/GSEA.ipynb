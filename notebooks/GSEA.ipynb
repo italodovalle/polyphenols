{
 "cells": [
  {
   "cell_type": "code",
   "execution_count": 1,
   "metadata": {},
   "outputs": [],
   "source": [
    "import pandas as pd\n",
    "import numpy as np\n",
    "\n",
    "\n",
    "import matplotlib.pylab as plt\n",
    "import seaborn as sns\n",
    "sns.set_style('whitegrid')\n",
    "\n",
    "from collections import defaultdict\n",
    "from progressbar import ProgressBar\n",
    "import re\n",
    "from multiprocessing import Pool\n",
    "import time\n",
    "\n",
    "import scipy\n",
    "import networkx as nx\n",
    "import re\n",
    "\n",
    "import os\n",
    "import random\n",
    "import statsmodels.api as sm\n",
    "from collections import Counter\n",
    "\n",
    "from statsmodels.stats.multitest import multipletests\n",
    "\n",
    "import sys\n",
    "\n",
    "sys.path.append('../')\n",
    "\n",
    "%config InlineBackend.figure_format = 'retina'\n",
    "%matplotlib inline"
   ]
  },
  {
   "cell_type": "code",
   "execution_count": 2,
   "metadata": {},
   "outputs": [],
   "source": [
    "basedir = os.path.abspath('../') + '/'\n",
    "infolder = basedir + 'data/'\n",
    "outfolder = basedir + 'output/'\n",
    "dbs = basedir + 'data/databases/'"
   ]
  },
  {
   "cell_type": "code",
   "execution_count": 3,
   "metadata": {},
   "outputs": [],
   "source": [
    "import utils.network_utils as network_utils"
   ]
  },
  {
   "cell_type": "code",
   "execution_count": 4,
   "metadata": {},
   "outputs": [
    {
     "name": "stdout",
     "output_type": "stream",
     "text": [
      "17651 nodes\n",
      "351393 edges\n"
     ]
    }
   ],
   "source": [
    "infile = infolder + 'HumanInteractome_v2017.csv'\n",
    "header=True\n",
    "sep = ','\n",
    "columns = ['EntrezA', 'EntrezB']\n",
    "lcc = False\n",
    "G = network_utils.parse_interactome(infile, sep, header, columns, lcc=True)\n",
    "\n",
    "print (len(G.nodes()), 'nodes')\n",
    "print (len(G.edges()), 'edges')"
   ]
  },
  {
   "cell_type": "code",
   "execution_count": 5,
   "metadata": {},
   "outputs": [],
   "source": [
    "polyphenol = pd.read_csv(infolder + 'PolyphenolProteinInteractions.csv')\n",
    "chemical2genes = defaultdict(list)\n",
    "for i in polyphenol.index:\n",
    "    name = polyphenol.chemical.loc[i]\n",
    "    chemical2genes[name].append(polyphenol.entrez_id.loc[i])\n",
    "    \n",
    "for i in chemical2genes.keys():\n",
    "    chemical2genes[i] = list(set(chemical2genes[i]))"
   ]
  },
  {
   "cell_type": "code",
   "execution_count": 11,
   "metadata": {},
   "outputs": [],
   "source": [
    "dg = pd.read_csv(infolder + 'GenesDisease.csv')\n",
    "disease2genes = defaultdict(list)\n",
    "\n",
    "for i in dg.index:\n",
    "    disease2genes[dg.disease.loc[i]].append(dg.entrez_id.loc[i])"
   ]
  },
  {
   "cell_type": "markdown",
   "metadata": {},
   "source": [
    "## Import GCT\n",
    "\n",
    "* Perturbation signatures (in z-scores) of MCF7 cells treated with polyphenols were downloaded from the CLUE.io website (https://clue.io/)"
   ]
  },
  {
   "cell_type": "code",
   "execution_count": 12,
   "metadata": {},
   "outputs": [],
   "source": [
    "def parse_gct(infile):\n",
    "    \n",
    "    dt = pd.read_table(infile, sep = '\\t', skiprows=2)\n",
    "    cols = list(dt.columns[9:])\n",
    "    desc = dt.loc[:7, cols]\n",
    "    cols.append('id')\n",
    "    exp_matrix = dt[cols]\n",
    "    exp_matrix = dt.iloc[8:]\n",
    "    attributes = defaultdict(dict)\n",
    "    desc = dt.loc[:7, cols]\n",
    "    for i in desc.columns[:-1]:\n",
    "        for j in desc.index:\n",
    "            attributes[i][desc['id'].loc[j]] = desc[i].loc[j]\n",
    "    attributes = pd.DataFrame.from_dict(attributes, orient='index').reset_index()\n",
    "    attributes['distil_cc_q75'] = attributes['distil_cc_q75'].astype(float)\n",
    "    return(exp_matrix, attributes)\n",
    "\n",
    "\n",
    "def get_sp(gene):\n",
    "    if gene in G.nodes():\n",
    "        s = network_utils.calculate_closest_distance(G,[gene], genes)\n",
    "    else:\n",
    "        s = float('nan')\n",
    "    t = (gene,s)\n",
    "    return(t)"
   ]
  },
  {
   "cell_type": "code",
   "execution_count": 13,
   "metadata": {},
   "outputs": [],
   "source": [
    "def get_gsea(geneset, nongeneset, df,dataframe=False):\n",
    "    dic = {}\n",
    "    N_H = len(geneset)\n",
    "    N = df.shape[0]\n",
    "    n_r = np.sum(df['value'][df.gene.isin(geneset)].abs())\n",
    "    for rank in range(N):\n",
    "        dx = df.iloc[:rank]\n",
    "        s = list(set(geneset) & (set(dx['gene'])))\n",
    "        p_hit = np.sum(dx[dx.gene.isin(s)]['value'].abs()/n_r)\n",
    "        p_miss = 1.0/(N - N_H) * dx[~dx.gene.isin(geneset)].shape[0]\n",
    "        dic[rank] = p_hit - p_miss\n",
    "    dic = pd.DataFrame.from_dict(dic, orient='index')\n",
    "    if dataframe:\n",
    "        return(dic)\n",
    "    else:\n",
    "        return(dic[0].abs().max())\n",
    "    \n",
    "    \n",
    "def get_gsea_performance(geneset, nongeneset, df):\n",
    "    df = df.reset_index()\n",
    "    ranks_mapped = list(df[df.gene.isin(geneset)].index)\n",
    "    ranks = []\n",
    "    for i in ranks_mapped:\n",
    "        ranks.append(i - 1)\n",
    "        ranks.append(i)\n",
    "        ranks.append(i + 1)\n",
    "    dic = {}\n",
    "    N_H = len(geneset)\n",
    "    N = df.shape[0]\n",
    "    n_r = np.sum(df['value'][df.gene.isin(geneset)].abs())\n",
    "    for rank in ranks:\n",
    "        dx = df.iloc[:rank]\n",
    "        s = list(set(geneset) & (set(dx['gene'])))\n",
    "        p_hit = np.sum(dx[dx.gene.isin(s)]['value'].abs()/n_r)\n",
    "        p_miss = 1.0/(N - N_H) * dx[~dx.gene.isin(geneset)].shape[0]\n",
    "        dic[rank] = p_hit - p_miss\n",
    "    dic = pd.DataFrame.from_dict(dic, orient='index')\n",
    "    return(dic[0].abs().max())\n",
    "\n",
    "\n",
    "def get_null(input):\n",
    "    n, df = input\n",
    "    geneset = df['gene'].sample(n)\n",
    "    nongeneset = list(set(df['gene']) - set(geneset))\n",
    "    #es = get_gsea(geneset, nongeneset, df)\n",
    "    es = get_gsea_performance(geneset, nongeneset, df)\n",
    "    return(es)"
   ]
  },
  {
   "cell_type": "code",
   "execution_count": 14,
   "metadata": {},
   "outputs": [],
   "source": [
    "molecules = ['coumarin.gct',\n",
    " 'nobiletin.gct',\n",
    " 'prunetin.gct',\n",
    " 'coumestrol.gct',\n",
    " 'pterostilbene.gct',\n",
    " 'isoliquiritigenin.gct',\n",
    " 'caffeic_acid.gct',\n",
    " 'apigenin.gct',\n",
    " 'naringenin.gct',\n",
    " '(-)-epicatechin 3-o-gallate.gct',\n",
    " '(-)-epigallocatechin 3-o-gallate.gct',\n",
    " 'naringin.gct',\n",
    " 'piceatannol.gct',\n",
    " 'epicatechin.gct',\n",
    " 'daidzein.gct',\n",
    " 'umbelliferone.gct',\n",
    " 'rosmarinic acid.gtc']"
   ]
  },
  {
   "cell_type": "code",
   "execution_count": 15,
   "metadata": {},
   "outputs": [],
   "source": [
    "infiles = [i for i in os.listdir(basedir + 'data/connectivity_map/') if i.endswith('.gct')]"
   ]
  },
  {
   "cell_type": "code",
   "execution_count": 30,
   "metadata": {},
   "outputs": [
    {
     "name": "stderr",
     "output_type": "stream",
     "text": [
      "/Users/italodovalle/anaconda3/lib/python3.7/site-packages/IPython/core/interactiveshell.py:3417: DtypeWarning: Columns (0,3,4,5,6,7,9,10,11,12,13,14,15,16,17,18,19,20,21,22,23,24,25,26,27,28,29,30,31,32,33,34,35,36,37,38,39,40,41,42,43,44,45,46,47,48,49,50,51,52,53,54,55,56,57,58,59,60,61,62,63,64,65,66,67) have mixed types.Specify dtype option on import or set low_memory=False.\n",
      "  exec(code_obj, self.user_global_ns, self.user_ns)\n",
      "/Users/italodovalle/anaconda3/lib/python3.7/site-packages/ipykernel_launcher.py:36: SettingWithCopyWarning: \n",
      "A value is trying to be set on a copy of a slice from a DataFrame.\n",
      "Try using .loc[row_indexer,col_indexer] = value instead\n",
      "\n",
      "See the caveats in the documentation: https://pandas.pydata.org/pandas-docs/stable/user_guide/indexing.html#returning-a-view-versus-a-copy\n",
      "Process ForkPoolWorker-15:                                                    |\n",
      "Traceback (most recent call last):\n",
      "  File \"/Users/italodovalle/anaconda3/lib/python3.7/multiprocessing/process.py\", line 297, in _bootstrap\n",
      "    self.run()\n",
      "  File \"/Users/italodovalle/anaconda3/lib/python3.7/multiprocessing/process.py\", line 99, in run\n",
      "    self._target(*self._args, **self._kwargs)\n",
      "  File \"/Users/italodovalle/anaconda3/lib/python3.7/multiprocessing/pool.py\", line 121, in worker\n",
      "    result = (True, func(*args, **kwds))\n",
      "  File \"/Users/italodovalle/anaconda3/lib/python3.7/multiprocessing/pool.py\", line 44, in mapstar\n",
      "    return list(map(*args))\n",
      "  File \"<ipython-input-13-be736b5fca9e>\", line 46, in get_null\n",
      "    es = get_gsea_performance(geneset, nongeneset, df)\n",
      "  File \"<ipython-input-13-be736b5fca9e>\", line 33, in get_gsea_performance\n",
      "    s = list(set(geneset) & (set(dx['gene'])))\n",
      "KeyboardInterrupt\n"
     ]
    },
    {
     "ename": "KeyboardInterrupt",
     "evalue": "",
     "output_type": "error",
     "traceback": [
      "\u001b[0;31m---------------------------------------------------------------------------\u001b[0m",
      "\u001b[0;31mKeyboardInterrupt\u001b[0m                         Traceback (most recent call last)",
      "\u001b[0;32m<ipython-input-30-4c9a312f80aa>\u001b[0m in \u001b[0;36m<module>\u001b[0;34m\u001b[0m\n\u001b[1;32m     62\u001b[0m                 \u001b[0mrandomsets\u001b[0m \u001b[0;34m=\u001b[0m \u001b[0mnp\u001b[0m\u001b[0;34m.\u001b[0m\u001b[0mrepeat\u001b[0m\u001b[0;34m(\u001b[0m\u001b[0mlen\u001b[0m\u001b[0;34m(\u001b[0m\u001b[0mgeneset\u001b[0m\u001b[0;34m)\u001b[0m\u001b[0;34m,\u001b[0m\u001b[0mnpermutations\u001b[0m\u001b[0;34m)\u001b[0m\u001b[0;34m\u001b[0m\u001b[0;34m\u001b[0m\u001b[0m\n\u001b[1;32m     63\u001b[0m                 \u001b[0mrandomsets\u001b[0m \u001b[0;34m=\u001b[0m \u001b[0;34m[\u001b[0m\u001b[0;34m[\u001b[0m\u001b[0mi\u001b[0m\u001b[0;34m,\u001b[0m\u001b[0mdquery\u001b[0m\u001b[0;34m]\u001b[0m \u001b[0;32mfor\u001b[0m \u001b[0mi\u001b[0m \u001b[0;32min\u001b[0m \u001b[0mrandomsets\u001b[0m\u001b[0;34m]\u001b[0m\u001b[0;34m\u001b[0m\u001b[0;34m\u001b[0m\u001b[0m\n\u001b[0;32m---> 64\u001b[0;31m                 \u001b[0mnull\u001b[0m \u001b[0;34m=\u001b[0m \u001b[0mp\u001b[0m\u001b[0;34m.\u001b[0m\u001b[0mmap\u001b[0m\u001b[0;34m(\u001b[0m\u001b[0mget_null\u001b[0m\u001b[0;34m,\u001b[0m \u001b[0mrandomsets\u001b[0m\u001b[0;34m)\u001b[0m\u001b[0;34m\u001b[0m\u001b[0;34m\u001b[0m\u001b[0m\n\u001b[0m\u001b[1;32m     65\u001b[0m                 \u001b[0mp\u001b[0m\u001b[0;34m.\u001b[0m\u001b[0mclose\u001b[0m\u001b[0;34m(\u001b[0m\u001b[0;34m)\u001b[0m\u001b[0;34m\u001b[0m\u001b[0;34m\u001b[0m\u001b[0m\n\u001b[1;32m     66\u001b[0m                 \u001b[0mdic_null\u001b[0m\u001b[0;34m[\u001b[0m\u001b[0mlen\u001b[0m\u001b[0;34m(\u001b[0m\u001b[0mgeneset\u001b[0m\u001b[0;34m)\u001b[0m\u001b[0;34m]\u001b[0m \u001b[0;34m=\u001b[0m \u001b[0mnull\u001b[0m\u001b[0;34m\u001b[0m\u001b[0;34m\u001b[0m\u001b[0m\n",
      "\u001b[0;32m~/anaconda3/lib/python3.7/multiprocessing/pool.py\u001b[0m in \u001b[0;36mmap\u001b[0;34m(self, func, iterable, chunksize)\u001b[0m\n\u001b[1;32m    266\u001b[0m         \u001b[0;32min\u001b[0m \u001b[0ma\u001b[0m \u001b[0mlist\u001b[0m \u001b[0mthat\u001b[0m \u001b[0;32mis\u001b[0m \u001b[0mreturned\u001b[0m\u001b[0;34m.\u001b[0m\u001b[0;34m\u001b[0m\u001b[0;34m\u001b[0m\u001b[0m\n\u001b[1;32m    267\u001b[0m         '''\n\u001b[0;32m--> 268\u001b[0;31m         \u001b[0;32mreturn\u001b[0m \u001b[0mself\u001b[0m\u001b[0;34m.\u001b[0m\u001b[0m_map_async\u001b[0m\u001b[0;34m(\u001b[0m\u001b[0mfunc\u001b[0m\u001b[0;34m,\u001b[0m \u001b[0miterable\u001b[0m\u001b[0;34m,\u001b[0m \u001b[0mmapstar\u001b[0m\u001b[0;34m,\u001b[0m \u001b[0mchunksize\u001b[0m\u001b[0;34m)\u001b[0m\u001b[0;34m.\u001b[0m\u001b[0mget\u001b[0m\u001b[0;34m(\u001b[0m\u001b[0;34m)\u001b[0m\u001b[0;34m\u001b[0m\u001b[0;34m\u001b[0m\u001b[0m\n\u001b[0m\u001b[1;32m    269\u001b[0m \u001b[0;34m\u001b[0m\u001b[0m\n\u001b[1;32m    270\u001b[0m     \u001b[0;32mdef\u001b[0m \u001b[0mstarmap\u001b[0m\u001b[0;34m(\u001b[0m\u001b[0mself\u001b[0m\u001b[0;34m,\u001b[0m \u001b[0mfunc\u001b[0m\u001b[0;34m,\u001b[0m \u001b[0miterable\u001b[0m\u001b[0;34m,\u001b[0m \u001b[0mchunksize\u001b[0m\u001b[0;34m=\u001b[0m\u001b[0;32mNone\u001b[0m\u001b[0;34m)\u001b[0m\u001b[0;34m:\u001b[0m\u001b[0;34m\u001b[0m\u001b[0;34m\u001b[0m\u001b[0m\n",
      "\u001b[0;32m~/anaconda3/lib/python3.7/multiprocessing/pool.py\u001b[0m in \u001b[0;36mget\u001b[0;34m(self, timeout)\u001b[0m\n\u001b[1;32m    649\u001b[0m \u001b[0;34m\u001b[0m\u001b[0m\n\u001b[1;32m    650\u001b[0m     \u001b[0;32mdef\u001b[0m \u001b[0mget\u001b[0m\u001b[0;34m(\u001b[0m\u001b[0mself\u001b[0m\u001b[0;34m,\u001b[0m \u001b[0mtimeout\u001b[0m\u001b[0;34m=\u001b[0m\u001b[0;32mNone\u001b[0m\u001b[0;34m)\u001b[0m\u001b[0;34m:\u001b[0m\u001b[0;34m\u001b[0m\u001b[0;34m\u001b[0m\u001b[0m\n\u001b[0;32m--> 651\u001b[0;31m         \u001b[0mself\u001b[0m\u001b[0;34m.\u001b[0m\u001b[0mwait\u001b[0m\u001b[0;34m(\u001b[0m\u001b[0mtimeout\u001b[0m\u001b[0;34m)\u001b[0m\u001b[0;34m\u001b[0m\u001b[0;34m\u001b[0m\u001b[0m\n\u001b[0m\u001b[1;32m    652\u001b[0m         \u001b[0;32mif\u001b[0m \u001b[0;32mnot\u001b[0m \u001b[0mself\u001b[0m\u001b[0;34m.\u001b[0m\u001b[0mready\u001b[0m\u001b[0;34m(\u001b[0m\u001b[0;34m)\u001b[0m\u001b[0;34m:\u001b[0m\u001b[0;34m\u001b[0m\u001b[0;34m\u001b[0m\u001b[0m\n\u001b[1;32m    653\u001b[0m             \u001b[0;32mraise\u001b[0m \u001b[0mTimeoutError\u001b[0m\u001b[0;34m\u001b[0m\u001b[0;34m\u001b[0m\u001b[0m\n",
      "\u001b[0;32m~/anaconda3/lib/python3.7/multiprocessing/pool.py\u001b[0m in \u001b[0;36mwait\u001b[0;34m(self, timeout)\u001b[0m\n\u001b[1;32m    646\u001b[0m \u001b[0;34m\u001b[0m\u001b[0m\n\u001b[1;32m    647\u001b[0m     \u001b[0;32mdef\u001b[0m \u001b[0mwait\u001b[0m\u001b[0;34m(\u001b[0m\u001b[0mself\u001b[0m\u001b[0;34m,\u001b[0m \u001b[0mtimeout\u001b[0m\u001b[0;34m=\u001b[0m\u001b[0;32mNone\u001b[0m\u001b[0;34m)\u001b[0m\u001b[0;34m:\u001b[0m\u001b[0;34m\u001b[0m\u001b[0;34m\u001b[0m\u001b[0m\n\u001b[0;32m--> 648\u001b[0;31m         \u001b[0mself\u001b[0m\u001b[0;34m.\u001b[0m\u001b[0m_event\u001b[0m\u001b[0;34m.\u001b[0m\u001b[0mwait\u001b[0m\u001b[0;34m(\u001b[0m\u001b[0mtimeout\u001b[0m\u001b[0;34m)\u001b[0m\u001b[0;34m\u001b[0m\u001b[0;34m\u001b[0m\u001b[0m\n\u001b[0m\u001b[1;32m    649\u001b[0m \u001b[0;34m\u001b[0m\u001b[0m\n\u001b[1;32m    650\u001b[0m     \u001b[0;32mdef\u001b[0m \u001b[0mget\u001b[0m\u001b[0;34m(\u001b[0m\u001b[0mself\u001b[0m\u001b[0;34m,\u001b[0m \u001b[0mtimeout\u001b[0m\u001b[0;34m=\u001b[0m\u001b[0;32mNone\u001b[0m\u001b[0;34m)\u001b[0m\u001b[0;34m:\u001b[0m\u001b[0;34m\u001b[0m\u001b[0;34m\u001b[0m\u001b[0m\n",
      "\u001b[0;32m~/anaconda3/lib/python3.7/threading.py\u001b[0m in \u001b[0;36mwait\u001b[0;34m(self, timeout)\u001b[0m\n\u001b[1;32m    550\u001b[0m             \u001b[0msignaled\u001b[0m \u001b[0;34m=\u001b[0m \u001b[0mself\u001b[0m\u001b[0;34m.\u001b[0m\u001b[0m_flag\u001b[0m\u001b[0;34m\u001b[0m\u001b[0;34m\u001b[0m\u001b[0m\n\u001b[1;32m    551\u001b[0m             \u001b[0;32mif\u001b[0m \u001b[0;32mnot\u001b[0m \u001b[0msignaled\u001b[0m\u001b[0;34m:\u001b[0m\u001b[0;34m\u001b[0m\u001b[0;34m\u001b[0m\u001b[0m\n\u001b[0;32m--> 552\u001b[0;31m                 \u001b[0msignaled\u001b[0m \u001b[0;34m=\u001b[0m \u001b[0mself\u001b[0m\u001b[0;34m.\u001b[0m\u001b[0m_cond\u001b[0m\u001b[0;34m.\u001b[0m\u001b[0mwait\u001b[0m\u001b[0;34m(\u001b[0m\u001b[0mtimeout\u001b[0m\u001b[0;34m)\u001b[0m\u001b[0;34m\u001b[0m\u001b[0;34m\u001b[0m\u001b[0m\n\u001b[0m\u001b[1;32m    553\u001b[0m             \u001b[0;32mreturn\u001b[0m \u001b[0msignaled\u001b[0m\u001b[0;34m\u001b[0m\u001b[0;34m\u001b[0m\u001b[0m\n\u001b[1;32m    554\u001b[0m \u001b[0;34m\u001b[0m\u001b[0m\n",
      "\u001b[0;32m~/anaconda3/lib/python3.7/threading.py\u001b[0m in \u001b[0;36mwait\u001b[0;34m(self, timeout)\u001b[0m\n\u001b[1;32m    294\u001b[0m         \u001b[0;32mtry\u001b[0m\u001b[0;34m:\u001b[0m    \u001b[0;31m# restore state no matter what (e.g., KeyboardInterrupt)\u001b[0m\u001b[0;34m\u001b[0m\u001b[0;34m\u001b[0m\u001b[0m\n\u001b[1;32m    295\u001b[0m             \u001b[0;32mif\u001b[0m \u001b[0mtimeout\u001b[0m \u001b[0;32mis\u001b[0m \u001b[0;32mNone\u001b[0m\u001b[0;34m:\u001b[0m\u001b[0;34m\u001b[0m\u001b[0;34m\u001b[0m\u001b[0m\n\u001b[0;32m--> 296\u001b[0;31m                 \u001b[0mwaiter\u001b[0m\u001b[0;34m.\u001b[0m\u001b[0macquire\u001b[0m\u001b[0;34m(\u001b[0m\u001b[0;34m)\u001b[0m\u001b[0;34m\u001b[0m\u001b[0;34m\u001b[0m\u001b[0m\n\u001b[0m\u001b[1;32m    297\u001b[0m                 \u001b[0mgotit\u001b[0m \u001b[0;34m=\u001b[0m \u001b[0;32mTrue\u001b[0m\u001b[0;34m\u001b[0m\u001b[0;34m\u001b[0m\u001b[0m\n\u001b[1;32m    298\u001b[0m             \u001b[0;32melse\u001b[0m\u001b[0;34m:\u001b[0m\u001b[0;34m\u001b[0m\u001b[0;34m\u001b[0m\u001b[0m\n",
      "\u001b[0;31mKeyboardInterrupt\u001b[0m: "
     ]
    }
   ],
   "source": [
    "ncpu = 1\n",
    "npermutations = 10\n",
    "for infile in infiles:\n",
    "    \n",
    "    cell_line = 'MCF7'\n",
    "    \n",
    "    ## parse gct file\n",
    "    dt, attributes = parse_gct(basedir + 'data/connectivity_map/' + infile)\n",
    "    \n",
    "    ## select experimental instances to run gsea\n",
    "    selected = attributes[(attributes.cell_id == cell_line)]\n",
    "    timepoints = ['24 h', '6 h']\n",
    "    treats = list(set(attributes['pert_idose']))\n",
    "    samples = []\n",
    "    for tp in timepoints:\n",
    "        for treat in treats:\n",
    "            buf = selected[(selected['pert_itime'] == tp) & (selected['pert_idose'] == treat)]\n",
    "            if buf.shape[0] == 1:\n",
    "                samples.append(buf['index'].iloc[0])\n",
    "            if buf.shape[0] > 1:\n",
    "                sample = buf[buf['distil_cc_q75'] == buf['distil_cc_q75'].max()]['index'].iloc[0]\n",
    "                samples.append(sample)\n",
    "    \n",
    "    \n",
    "    \n",
    "    sample2attributes = {}\n",
    "    for sample in samples:\n",
    "        dic = {}\n",
    "        buf = attributes[attributes['index'] == sample][['cell_id', 'name', 'pert_idose', 'pert_itime', 'index']]\n",
    "        sample2attributes[sample] = buf.to_dict('records')[0]\n",
    "                \n",
    "    \n",
    "    ## prepare tables\n",
    "    cols = ['id'] + samples\n",
    "    data = dt[cols]\n",
    "    data['id'] = data['id'].astype(int)\n",
    "    data = data[data['id'].isin(list(G.nodes()))]\n",
    "    for col in samples:\n",
    "        data[col] = data[col].astype(float)\n",
    "    \n",
    "    \n",
    "    npermutations = 10\n",
    "    \n",
    "    ## run gsea for each experimental instance\n",
    "    for test in samples:\n",
    "        \n",
    "        dquery = data[[test, 'id']]\n",
    "        dquery = dquery.sort_values(by = test)\n",
    "        dquery.columns = ['value', 'gene']\n",
    "        \n",
    "        dfs = []\n",
    "        pbar = ProgressBar()\n",
    "        dic_null = {}\n",
    "        for disease in pbar(disease2genes.keys()):\n",
    "            res = defaultdict(dict)\n",
    "            c = 0\n",
    "            geneset = list(set(disease2genes[disease]) & set(G.nodes()))\n",
    "            ns = list(set(dquery['gene']) - set(geneset))\n",
    "            es = get_gsea_performance(geneset, ns, dquery)\n",
    "            if not len(geneset) in dic_null.keys():\n",
    "                p = Pool(ncpu)\n",
    "                randomsets = np.repeat(len(geneset),npermutations)\n",
    "                randomsets = [[i,dquery] for i in randomsets]\n",
    "                null = p.map(get_null, randomsets)\n",
    "                p.close()\n",
    "                dic_null[len(geneset)] = null\n",
    "            res[c]['disease'] = disease\n",
    "            res[c]['ES'] = es\n",
    "            res[c]['Z_ES'] = (es - np.mean(dic_null[len(geneset)]))/np.std(dic_null[len(geneset)])\n",
    "            res[c]['p_empirical'] = len([i for i in dic_null[len(geneset)] if i > es])/len(dic_null[len(geneset)])\n",
    "            for att in sample2attributes[sample]:\n",
    "                res[c][att] = sample2attributes[sample][att]\n",
    "            res = pd.DataFrame.from_dict(res, orient='index')\n",
    "            #res.to_csv(outfolder + 'tables/tmp/%s.csv'%disease)\n",
    "            dfs.append(res)\n",
    "        res = pd.concat(dfs)\n",
    "    \n",
    "    break"
   ]
  },
  {
   "cell_type": "code",
   "execution_count": 33,
   "metadata": {},
   "outputs": [
    {
     "data": {
      "text/html": [
       "<div>\n",
       "<style scoped>\n",
       "    .dataframe tbody tr th:only-of-type {\n",
       "        vertical-align: middle;\n",
       "    }\n",
       "\n",
       "    .dataframe tbody tr th {\n",
       "        vertical-align: top;\n",
       "    }\n",
       "\n",
       "    .dataframe thead th {\n",
       "        text-align: right;\n",
       "    }\n",
       "</style>\n",
       "<table border=\"1\" class=\"dataframe\">\n",
       "  <thead>\n",
       "    <tr style=\"text-align: right;\">\n",
       "      <th></th>\n",
       "      <th>disease</th>\n",
       "      <th>ES</th>\n",
       "      <th>Z_ES</th>\n",
       "      <th>p_empirical</th>\n",
       "      <th>cell_id</th>\n",
       "      <th>name</th>\n",
       "      <th>pert_idose</th>\n",
       "      <th>pert_itime</th>\n",
       "      <th>index</th>\n",
       "    </tr>\n",
       "  </thead>\n",
       "  <tbody>\n",
       "    <tr>\n",
       "      <th>0</th>\n",
       "      <td>kidney diseases</td>\n",
       "      <td>0.225846</td>\n",
       "      <td>1.392548</td>\n",
       "      <td>0.0</td>\n",
       "      <td>MCF7</td>\n",
       "      <td>isoliquiritigenin</td>\n",
       "      <td>10 µM</td>\n",
       "      <td>6 h</td>\n",
       "      <td>CPC006_MCF7_6H:BRD-K33583600-001-09-6:10</td>\n",
       "    </tr>\n",
       "  </tbody>\n",
       "</table>\n",
       "</div>"
      ],
      "text/plain": [
       "           disease        ES      Z_ES  p_empirical cell_id  \\\n",
       "0  kidney diseases  0.225846  1.392548          0.0    MCF7   \n",
       "\n",
       "                name pert_idose pert_itime  \\\n",
       "0  isoliquiritigenin      10 µM        6 h   \n",
       "\n",
       "                                      index  \n",
       "0  CPC006_MCF7_6H:BRD-K33583600-001-09-6:10  "
      ]
     },
     "execution_count": 33,
     "metadata": {},
     "output_type": "execute_result"
    }
   ],
   "source": [
    "dfs[0]"
   ]
  },
  {
   "cell_type": "code",
   "execution_count": 24,
   "metadata": {},
   "outputs": [],
   "source": []
  },
  {
   "cell_type": "code",
   "execution_count": 27,
   "metadata": {},
   "outputs": [
    {
     "data": {
      "text/plain": [
       "[{'cell_id': 'MCF7',\n",
       "  'name': 'isoliquiritigenin',\n",
       "  'pert_idose': '10 µM',\n",
       "  'pert_itime': '24 h',\n",
       "  'index': 'CPC006_MCF7_24H:BRD-K33583600-001-09-6:10'}]"
      ]
     },
     "execution_count": 27,
     "metadata": {},
     "output_type": "execute_result"
    }
   ],
   "source": []
  },
  {
   "cell_type": "code",
   "execution_count": 23,
   "metadata": {},
   "outputs": [
    {
     "data": {
      "text/html": [
       "<div>\n",
       "<style scoped>\n",
       "    .dataframe tbody tr th:only-of-type {\n",
       "        vertical-align: middle;\n",
       "    }\n",
       "\n",
       "    .dataframe tbody tr th {\n",
       "        vertical-align: top;\n",
       "    }\n",
       "\n",
       "    .dataframe thead th {\n",
       "        text-align: right;\n",
       "    }\n",
       "</style>\n",
       "<table border=\"1\" class=\"dataframe\">\n",
       "  <thead>\n",
       "    <tr style=\"text-align: right;\">\n",
       "      <th></th>\n",
       "      <th>index</th>\n",
       "      <th>cell_id</th>\n",
       "      <th>pert_id</th>\n",
       "      <th>name</th>\n",
       "      <th>pert_type</th>\n",
       "      <th>pert_idose</th>\n",
       "      <th>pert_itime</th>\n",
       "      <th>distil_cc_q75</th>\n",
       "      <th>distil_ss</th>\n",
       "    </tr>\n",
       "  </thead>\n",
       "  <tbody>\n",
       "    <tr>\n",
       "      <th>25</th>\n",
       "      <td>CPC006_MCF7_24H:BRD-K33583600-001-09-6:10</td>\n",
       "      <td>MCF7</td>\n",
       "      <td>BRD-K33583600</td>\n",
       "      <td>isoliquiritigenin</td>\n",
       "      <td>trt_cp</td>\n",
       "      <td>10 µM</td>\n",
       "      <td>24 h</td>\n",
       "      <td>0.59</td>\n",
       "      <td>3.6809</td>\n",
       "    </tr>\n",
       "  </tbody>\n",
       "</table>\n",
       "</div>"
      ],
      "text/plain": [
       "                                        index cell_id        pert_id  \\\n",
       "25  CPC006_MCF7_24H:BRD-K33583600-001-09-6:10    MCF7  BRD-K33583600   \n",
       "\n",
       "                 name pert_type pert_idose pert_itime  distil_cc_q75 distil_ss  \n",
       "25  isoliquiritigenin    trt_cp      10 µM       24 h           0.59    3.6809  "
      ]
     },
     "execution_count": 23,
     "metadata": {},
     "output_type": "execute_result"
    }
   ],
   "source": [
    "attributes[attributes['index'] == sample]"
   ]
  },
  {
   "cell_type": "markdown",
   "metadata": {},
   "source": [
    "## Organize Output"
   ]
  },
  {
   "cell_type": "code",
   "execution_count": null,
   "metadata": {},
   "outputs": [],
   "source": [
    "molecule = 'genistein'\n",
    "cell_line = 'MCF7'\n",
    "indir = '/home/italodovalle/flavonoids/output/tables/tmp/'\n",
    "dfs = []\n",
    "for i in os.listdir(indir):\n",
    "    if 'gsea_%s_%s'%(molecule, cell_line.lower()) in i:\n",
    "        d = pd.read_csv(indir + i, index_col = 0)\n",
    "        if '_' in molecule:\n",
    "            v = i.split('_')\n",
    "            cell, concentration, time = v[-3],v[-2],v[-1]\n",
    "            chemical = molecule\n",
    "        else:\n",
    "            buf, chemical, cell,concentration, time =  i.split('_')\n",
    "        d['cell'] = cell\n",
    "        d['concentration'] = concentration\n",
    "        d['duration'] = time.split('.')[0]\n",
    "        d['pvalue_adj'] = multipletests(d['p_empirical'], alpha=0.05, method='fdr_bh')[1]\n",
    "        dfs.append(d)\n",
    "df = pd.concat(dfs)\n",
    "df.to_csv(outfolder + 'tables/gsea_cmap/%s_%s_cmap_gsea.csv'%(molecule,cell_line.lower()))"
   ]
  }
 ],
 "metadata": {
  "kernelspec": {
   "display_name": "Python 3",
   "language": "python",
   "name": "python3"
  },
  "language_info": {
   "codemirror_mode": {
    "name": "ipython",
    "version": 3
   },
   "file_extension": ".py",
   "mimetype": "text/x-python",
   "name": "python",
   "nbconvert_exporter": "python",
   "pygments_lexer": "ipython3",
   "version": "3.7.6"
  }
 },
 "nbformat": 4,
 "nbformat_minor": 4
}
